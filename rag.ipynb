{
 "cells": [
  {
   "cell_type": "code",
   "execution_count": 2,
   "id": "282cc969",
   "metadata": {},
   "outputs": [
    {
     "name": "stdout",
     "output_type": "stream",
     "text": [
      "Requirement already satisfied: langchain-community in /home/kartikay23230/miniconda3/envs/assn3/lib/python3.8/site-packages (0.2.19)\n",
      "Requirement already satisfied: PyYAML>=5.3 in /home/kartikay23230/miniconda3/envs/assn3/lib/python3.8/site-packages (from langchain-community) (6.0.2)\n",
      "Requirement already satisfied: SQLAlchemy<3,>=1.4 in /home/kartikay23230/miniconda3/envs/assn3/lib/python3.8/site-packages (from langchain-community) (2.0.40)\n",
      "Requirement already satisfied: aiohttp<4.0.0,>=3.8.3 in /home/kartikay23230/miniconda3/envs/assn3/lib/python3.8/site-packages (from langchain-community) (3.10.11)\n",
      "Requirement already satisfied: dataclasses-json<0.7,>=0.5.7 in /home/kartikay23230/miniconda3/envs/assn3/lib/python3.8/site-packages (from langchain-community) (0.6.7)\n",
      "Requirement already satisfied: langchain<0.3.0,>=0.2.17 in /home/kartikay23230/miniconda3/envs/assn3/lib/python3.8/site-packages (from langchain-community) (0.2.17)\n",
      "Requirement already satisfied: langchain-core<0.3.0,>=0.2.43 in /home/kartikay23230/miniconda3/envs/assn3/lib/python3.8/site-packages (from langchain-community) (0.2.43)\n",
      "Requirement already satisfied: langsmith<0.2.0,>=0.1.112 in /home/kartikay23230/miniconda3/envs/assn3/lib/python3.8/site-packages (from langchain-community) (0.1.147)\n",
      "Requirement already satisfied: numpy<2,>=1 in /home/kartikay23230/miniconda3/envs/assn3/lib/python3.8/site-packages (from langchain-community) (1.19.2)\n",
      "Requirement already satisfied: requests<3,>=2 in /home/kartikay23230/miniconda3/envs/assn3/lib/python3.8/site-packages (from langchain-community) (2.32.3)\n",
      "Requirement already satisfied: tenacity!=8.4.0,<9.0.0,>=8.1.0 in /home/kartikay23230/miniconda3/envs/assn3/lib/python3.8/site-packages (from langchain-community) (8.5.0)\n",
      "Requirement already satisfied: aiohappyeyeballs>=2.3.0 in /home/kartikay23230/miniconda3/envs/assn3/lib/python3.8/site-packages (from aiohttp<4.0.0,>=3.8.3->langchain-community) (2.4.4)\n",
      "Requirement already satisfied: aiosignal>=1.1.2 in /home/kartikay23230/miniconda3/envs/assn3/lib/python3.8/site-packages (from aiohttp<4.0.0,>=3.8.3->langchain-community) (1.3.1)\n",
      "Requirement already satisfied: attrs>=17.3.0 in /home/kartikay23230/miniconda3/envs/assn3/lib/python3.8/site-packages (from aiohttp<4.0.0,>=3.8.3->langchain-community) (25.3.0)\n",
      "Requirement already satisfied: frozenlist>=1.1.1 in /home/kartikay23230/miniconda3/envs/assn3/lib/python3.8/site-packages (from aiohttp<4.0.0,>=3.8.3->langchain-community) (1.5.0)\n",
      "Requirement already satisfied: multidict<7.0,>=4.5 in /home/kartikay23230/miniconda3/envs/assn3/lib/python3.8/site-packages (from aiohttp<4.0.0,>=3.8.3->langchain-community) (6.1.0)\n",
      "Requirement already satisfied: yarl<2.0,>=1.12.0 in /home/kartikay23230/miniconda3/envs/assn3/lib/python3.8/site-packages (from aiohttp<4.0.0,>=3.8.3->langchain-community) (1.15.2)\n",
      "Requirement already satisfied: async-timeout<6.0,>=4.0 in /home/kartikay23230/miniconda3/envs/assn3/lib/python3.8/site-packages (from aiohttp<4.0.0,>=3.8.3->langchain-community) (4.0.3)\n",
      "Requirement already satisfied: marshmallow<4.0.0,>=3.18.0 in /home/kartikay23230/miniconda3/envs/assn3/lib/python3.8/site-packages (from dataclasses-json<0.7,>=0.5.7->langchain-community) (3.22.0)\n",
      "Requirement already satisfied: typing-inspect<1,>=0.4.0 in /home/kartikay23230/miniconda3/envs/assn3/lib/python3.8/site-packages (from dataclasses-json<0.7,>=0.5.7->langchain-community) (0.9.0)\n",
      "Requirement already satisfied: langchain-text-splitters<0.3.0,>=0.2.0 in /home/kartikay23230/miniconda3/envs/assn3/lib/python3.8/site-packages (from langchain<0.3.0,>=0.2.17->langchain-community) (0.2.4)\n",
      "Requirement already satisfied: pydantic<3,>=1 in /home/kartikay23230/miniconda3/envs/assn3/lib/python3.8/site-packages (from langchain<0.3.0,>=0.2.17->langchain-community) (2.10.6)\n",
      "Requirement already satisfied: jsonpatch<2.0,>=1.33 in /home/kartikay23230/miniconda3/envs/assn3/lib/python3.8/site-packages (from langchain-core<0.3.0,>=0.2.43->langchain-community) (1.33)\n",
      "Requirement already satisfied: packaging<25,>=23.2 in /home/kartikay23230/miniconda3/envs/assn3/lib/python3.8/site-packages (from langchain-core<0.3.0,>=0.2.43->langchain-community) (24.1)\n",
      "Requirement already satisfied: typing-extensions>=4.7 in /home/kartikay23230/miniconda3/envs/assn3/lib/python3.8/site-packages (from langchain-core<0.3.0,>=0.2.43->langchain-community) (4.13.2)\n",
      "Requirement already satisfied: httpx<1,>=0.23.0 in /home/kartikay23230/miniconda3/envs/assn3/lib/python3.8/site-packages (from langsmith<0.2.0,>=0.1.112->langchain-community) (0.28.1)\n",
      "Requirement already satisfied: orjson<4.0.0,>=3.9.14 in /home/kartikay23230/miniconda3/envs/assn3/lib/python3.8/site-packages (from langsmith<0.2.0,>=0.1.112->langchain-community) (3.10.15)\n",
      "Requirement already satisfied: requests-toolbelt<2.0.0,>=1.0.0 in /home/kartikay23230/miniconda3/envs/assn3/lib/python3.8/site-packages (from langsmith<0.2.0,>=0.1.112->langchain-community) (1.0.0)\n",
      "Requirement already satisfied: charset-normalizer<4,>=2 in /home/kartikay23230/miniconda3/envs/assn3/lib/python3.8/site-packages (from requests<3,>=2->langchain-community) (3.4.1)\n",
      "Requirement already satisfied: idna<4,>=2.5 in /home/kartikay23230/miniconda3/envs/assn3/lib/python3.8/site-packages (from requests<3,>=2->langchain-community) (3.10)\n",
      "Requirement already satisfied: urllib3<3,>=1.21.1 in /home/kartikay23230/miniconda3/envs/assn3/lib/python3.8/site-packages (from requests<3,>=2->langchain-community) (2.2.3)\n",
      "Requirement already satisfied: certifi>=2017.4.17 in /home/kartikay23230/miniconda3/envs/assn3/lib/python3.8/site-packages (from requests<3,>=2->langchain-community) (2024.8.30)\n",
      "Requirement already satisfied: greenlet>=1 in /home/kartikay23230/miniconda3/envs/assn3/lib/python3.8/site-packages (from SQLAlchemy<3,>=1.4->langchain-community) (3.1.1)\n",
      "Requirement already satisfied: anyio in /home/kartikay23230/miniconda3/envs/assn3/lib/python3.8/site-packages (from httpx<1,>=0.23.0->langsmith<0.2.0,>=0.1.112->langchain-community) (4.5.2)\n",
      "Requirement already satisfied: httpcore==1.* in /home/kartikay23230/miniconda3/envs/assn3/lib/python3.8/site-packages (from httpx<1,>=0.23.0->langsmith<0.2.0,>=0.1.112->langchain-community) (1.0.8)\n",
      "Requirement already satisfied: h11<0.15,>=0.13 in /home/kartikay23230/miniconda3/envs/assn3/lib/python3.8/site-packages (from httpcore==1.*->httpx<1,>=0.23.0->langsmith<0.2.0,>=0.1.112->langchain-community) (0.14.0)\n",
      "Requirement already satisfied: jsonpointer>=1.9 in /home/kartikay23230/miniconda3/envs/assn3/lib/python3.8/site-packages (from jsonpatch<2.0,>=1.33->langchain-core<0.3.0,>=0.2.43->langchain-community) (3.0.0)\n",
      "Requirement already satisfied: annotated-types>=0.6.0 in /home/kartikay23230/miniconda3/envs/assn3/lib/python3.8/site-packages (from pydantic<3,>=1->langchain<0.3.0,>=0.2.17->langchain-community) (0.7.0)\n",
      "Requirement already satisfied: pydantic-core==2.27.2 in /home/kartikay23230/miniconda3/envs/assn3/lib/python3.8/site-packages (from pydantic<3,>=1->langchain<0.3.0,>=0.2.17->langchain-community) (2.27.2)\n",
      "Requirement already satisfied: mypy-extensions>=0.3.0 in /home/kartikay23230/miniconda3/envs/assn3/lib/python3.8/site-packages (from typing-inspect<1,>=0.4.0->dataclasses-json<0.7,>=0.5.7->langchain-community) (1.0.0)\n",
      "Requirement already satisfied: propcache>=0.2.0 in /home/kartikay23230/miniconda3/envs/assn3/lib/python3.8/site-packages (from yarl<2.0,>=1.12.0->aiohttp<4.0.0,>=3.8.3->langchain-community) (0.2.0)\n",
      "Requirement already satisfied: sniffio>=1.1 in /home/kartikay23230/miniconda3/envs/assn3/lib/python3.8/site-packages (from anyio->httpx<1,>=0.23.0->langsmith<0.2.0,>=0.1.112->langchain-community) (1.3.1)\n",
      "Requirement already satisfied: exceptiongroup>=1.0.2 in /home/kartikay23230/miniconda3/envs/assn3/lib/python3.8/site-packages (from anyio->httpx<1,>=0.23.0->langsmith<0.2.0,>=0.1.112->langchain-community) (1.2.0)\n",
      "Note: you may need to restart the kernel to use updated packages.\n"
     ]
    }
   ],
   "source": [
    "pip install -U langchain-community"
   ]
  },
  {
   "cell_type": "code",
   "execution_count": null,
   "id": "3f46788c",
   "metadata": {},
   "outputs": [
    {
     "name": "stdout",
     "output_type": "stream",
     "text": [
      "Requirement already satisfied: langchain in /home/kartikay23230/miniconda3/envs/assn3/lib/python3.8/site-packages (0.2.17)\n",
      "Requirement already satisfied: langchain-openai in /home/kartikay23230/miniconda3/envs/assn3/lib/python3.8/site-packages (0.1.25)\n",
      "Requirement already satisfied: pypdf in /home/kartikay23230/miniconda3/envs/assn3/lib/python3.8/site-packages (5.4.0)\n",
      "Requirement already satisfied: faiss-cpu in /home/kartikay23230/miniconda3/envs/assn3/lib/python3.8/site-packages (1.8.0.post1)\n",
      "Requirement already satisfied: tiktoken in /home/kartikay23230/miniconda3/envs/assn3/lib/python3.8/site-packages (0.7.0)\n",
      "Requirement already satisfied: PyYAML>=5.3 in /home/kartikay23230/miniconda3/envs/assn3/lib/python3.8/site-packages (from langchain) (6.0.2)\n",
      "Requirement already satisfied: SQLAlchemy<3,>=1.4 in /home/kartikay23230/miniconda3/envs/assn3/lib/python3.8/site-packages (from langchain) (2.0.40)\n",
      "Requirement already satisfied: aiohttp<4.0.0,>=3.8.3 in /home/kartikay23230/miniconda3/envs/assn3/lib/python3.8/site-packages (from langchain) (3.10.11)\n",
      "Requirement already satisfied: async-timeout<5.0.0,>=4.0.0 in /home/kartikay23230/miniconda3/envs/assn3/lib/python3.8/site-packages (from langchain) (4.0.3)\n",
      "Requirement already satisfied: langchain-core<0.3.0,>=0.2.43 in /home/kartikay23230/miniconda3/envs/assn3/lib/python3.8/site-packages (from langchain) (0.2.43)\n",
      "Requirement already satisfied: langchain-text-splitters<0.3.0,>=0.2.0 in /home/kartikay23230/miniconda3/envs/assn3/lib/python3.8/site-packages (from langchain) (0.2.4)\n",
      "Requirement already satisfied: langsmith<0.2.0,>=0.1.17 in /home/kartikay23230/miniconda3/envs/assn3/lib/python3.8/site-packages (from langchain) (0.1.147)\n",
      "Requirement already satisfied: numpy<2,>=1 in /home/kartikay23230/miniconda3/envs/assn3/lib/python3.8/site-packages (from langchain) (1.19.2)\n",
      "Requirement already satisfied: pydantic<3,>=1 in /home/kartikay23230/miniconda3/envs/assn3/lib/python3.8/site-packages (from langchain) (2.10.6)\n",
      "Requirement already satisfied: requests<3,>=2 in /home/kartikay23230/miniconda3/envs/assn3/lib/python3.8/site-packages (from langchain) (2.32.3)\n",
      "Requirement already satisfied: tenacity!=8.4.0,<9.0.0,>=8.1.0 in /home/kartikay23230/miniconda3/envs/assn3/lib/python3.8/site-packages (from langchain) (8.5.0)\n",
      "Requirement already satisfied: openai<2.0.0,>=1.40.0 in /home/kartikay23230/miniconda3/envs/assn3/lib/python3.8/site-packages (from langchain-openai) (1.75.0)\n",
      "Requirement already satisfied: typing_extensions>=4.0 in /home/kartikay23230/miniconda3/envs/assn3/lib/python3.8/site-packages (from pypdf) (4.13.2)\n",
      "Requirement already satisfied: packaging in /home/kartikay23230/miniconda3/envs/assn3/lib/python3.8/site-packages (from faiss-cpu) (24.1)\n",
      "Requirement already satisfied: regex>=2022.1.18 in /home/kartikay23230/miniconda3/envs/assn3/lib/python3.8/site-packages (from tiktoken) (2024.9.11)\n",
      "Requirement already satisfied: aiohappyeyeballs>=2.3.0 in /home/kartikay23230/miniconda3/envs/assn3/lib/python3.8/site-packages (from aiohttp<4.0.0,>=3.8.3->langchain) (2.4.4)\n",
      "Requirement already satisfied: aiosignal>=1.1.2 in /home/kartikay23230/miniconda3/envs/assn3/lib/python3.8/site-packages (from aiohttp<4.0.0,>=3.8.3->langchain) (1.3.1)\n",
      "Requirement already satisfied: attrs>=17.3.0 in /home/kartikay23230/miniconda3/envs/assn3/lib/python3.8/site-packages (from aiohttp<4.0.0,>=3.8.3->langchain) (25.3.0)\n",
      "Requirement already satisfied: frozenlist>=1.1.1 in /home/kartikay23230/miniconda3/envs/assn3/lib/python3.8/site-packages (from aiohttp<4.0.0,>=3.8.3->langchain) (1.5.0)\n",
      "Requirement already satisfied: multidict<7.0,>=4.5 in /home/kartikay23230/miniconda3/envs/assn3/lib/python3.8/site-packages (from aiohttp<4.0.0,>=3.8.3->langchain) (6.1.0)\n",
      "Requirement already satisfied: yarl<2.0,>=1.12.0 in /home/kartikay23230/miniconda3/envs/assn3/lib/python3.8/site-packages (from aiohttp<4.0.0,>=3.8.3->langchain) (1.15.2)\n",
      "Requirement already satisfied: jsonpatch<2.0,>=1.33 in /home/kartikay23230/miniconda3/envs/assn3/lib/python3.8/site-packages (from langchain-core<0.3.0,>=0.2.43->langchain) (1.33)\n",
      "Requirement already satisfied: httpx<1,>=0.23.0 in /home/kartikay23230/miniconda3/envs/assn3/lib/python3.8/site-packages (from langsmith<0.2.0,>=0.1.17->langchain) (0.28.1)\n",
      "Requirement already satisfied: orjson<4.0.0,>=3.9.14 in /home/kartikay23230/miniconda3/envs/assn3/lib/python3.8/site-packages (from langsmith<0.2.0,>=0.1.17->langchain) (3.10.15)\n",
      "Requirement already satisfied: requests-toolbelt<2.0.0,>=1.0.0 in /home/kartikay23230/miniconda3/envs/assn3/lib/python3.8/site-packages (from langsmith<0.2.0,>=0.1.17->langchain) (1.0.0)\n",
      "Requirement already satisfied: anyio<5,>=3.5.0 in /home/kartikay23230/miniconda3/envs/assn3/lib/python3.8/site-packages (from openai<2.0.0,>=1.40.0->langchain-openai) (4.5.2)\n",
      "Requirement already satisfied: distro<2,>=1.7.0 in /home/kartikay23230/miniconda3/envs/assn3/lib/python3.8/site-packages (from openai<2.0.0,>=1.40.0->langchain-openai) (1.9.0)\n",
      "Requirement already satisfied: jiter<1,>=0.4.0 in /home/kartikay23230/miniconda3/envs/assn3/lib/python3.8/site-packages (from openai<2.0.0,>=1.40.0->langchain-openai) (0.9.0)\n",
      "Requirement already satisfied: sniffio in /home/kartikay23230/miniconda3/envs/assn3/lib/python3.8/site-packages (from openai<2.0.0,>=1.40.0->langchain-openai) (1.3.1)\n",
      "Requirement already satisfied: tqdm>4 in /home/kartikay23230/miniconda3/envs/assn3/lib/python3.8/site-packages (from openai<2.0.0,>=1.40.0->langchain-openai) (4.66.5)\n",
      "Requirement already satisfied: annotated-types>=0.6.0 in /home/kartikay23230/miniconda3/envs/assn3/lib/python3.8/site-packages (from pydantic<3,>=1->langchain) (0.7.0)\n",
      "Requirement already satisfied: pydantic-core==2.27.2 in /home/kartikay23230/miniconda3/envs/assn3/lib/python3.8/site-packages (from pydantic<3,>=1->langchain) (2.27.2)\n",
      "Requirement already satisfied: charset-normalizer<4,>=2 in /home/kartikay23230/miniconda3/envs/assn3/lib/python3.8/site-packages (from requests<3,>=2->langchain) (3.4.1)\n",
      "Requirement already satisfied: idna<4,>=2.5 in /home/kartikay23230/miniconda3/envs/assn3/lib/python3.8/site-packages (from requests<3,>=2->langchain) (3.10)\n",
      "Requirement already satisfied: urllib3<3,>=1.21.1 in /home/kartikay23230/miniconda3/envs/assn3/lib/python3.8/site-packages (from requests<3,>=2->langchain) (2.2.3)\n",
      "Requirement already satisfied: certifi>=2017.4.17 in /home/kartikay23230/miniconda3/envs/assn3/lib/python3.8/site-packages (from requests<3,>=2->langchain) (2024.8.30)\n",
      "Requirement already satisfied: greenlet>=1 in /home/kartikay23230/miniconda3/envs/assn3/lib/python3.8/site-packages (from SQLAlchemy<3,>=1.4->langchain) (3.1.1)\n",
      "Requirement already satisfied: exceptiongroup>=1.0.2 in /home/kartikay23230/miniconda3/envs/assn3/lib/python3.8/site-packages (from anyio<5,>=3.5.0->openai<2.0.0,>=1.40.0->langchain-openai) (1.2.0)\n",
      "Requirement already satisfied: httpcore==1.* in /home/kartikay23230/miniconda3/envs/assn3/lib/python3.8/site-packages (from httpx<1,>=0.23.0->langsmith<0.2.0,>=0.1.17->langchain) (1.0.8)\n",
      "Requirement already satisfied: h11<0.15,>=0.13 in /home/kartikay23230/miniconda3/envs/assn3/lib/python3.8/site-packages (from httpcore==1.*->httpx<1,>=0.23.0->langsmith<0.2.0,>=0.1.17->langchain) (0.14.0)\n",
      "Requirement already satisfied: jsonpointer>=1.9 in /home/kartikay23230/miniconda3/envs/assn3/lib/python3.8/site-packages (from jsonpatch<2.0,>=1.33->langchain-core<0.3.0,>=0.2.43->langchain) (3.0.0)\n",
      "Requirement already satisfied: propcache>=0.2.0 in /home/kartikay23230/miniconda3/envs/assn3/lib/python3.8/site-packages (from yarl<2.0,>=1.12.0->aiohttp<4.0.0,>=3.8.3->langchain) (0.2.0)\n"
     ]
    }
   ],
   "source": [
    "\n",
    "!pip install langchain langchain-openai pypdf faiss-cpu tiktoken\n",
    "\n",
    "import os\n",
    "from langchain.document_loaders import PyPDFLoader\n",
    "from langchain.text_splitter import RecursiveCharacterTextSplitter\n",
    "from langchain.embeddings import OpenAIEmbeddings\n",
    "from langchain.vectorstores import FAISS\n",
    "from langchain.chat_models import ChatOpenAI\n",
    "from langchain.chains import RetrievalQA\n",
    "from langchain.prompts import PromptTemplate\n",
    "from langchain.memory import ConversationBufferMemory"
   ]
  },
  {
   "cell_type": "code",
   "execution_count": null,
   "id": "af5451fd",
   "metadata": {},
   "outputs": [
    {
     "name": "stdout",
     "output_type": "stream",
     "text": [
      "Split documents into 2 chunks\n"
     ]
    }
   ],
   "source": [
    "# Set up OpenAI API Key\n",
    "os.environ[\"OPENAI_API_KEY\"] = os.getenv(\"OPENAI_API_KEY\")  \n",
    "\n",
    "# Sample PDF document loading - replace with your documents\n",
    "with open(\"sample_document.txt\", \"w\") as f:\n",
    "    f.write(\"\"\"\n",
    "    Retrieval-Augmented Generation (RAG) is an AI framework that enhances large language model (LLM) \n",
    "    outputs by retrieving relevant information from external sources. RAG combines the strengths of \n",
    "    retrieval-based and generation-based approaches in natural language processing.\n",
    "    \n",
    "    RAG was introduced by researchers at Facebook AI in 2020. The approach improves factuality and \n",
    "    specificity in generated responses by grounding them in retrieved passages. \n",
    "    \n",
    "    The key components of RAG are:\n",
    "    1. A retriever module that finds relevant documents from a knowledge base\n",
    "    2. An augmenter that incorporates the retrieved information\n",
    "    3. A generator that produces the final response using both the query and retrieved context\n",
    "    \"\"\")\n",
    "\n",
    "# Load documents\n",
    "documents = [open(\"sample_document.txt\").read()]\n",
    "\n",
    "# Split documents into chunks\n",
    "text_splitter = RecursiveCharacterTextSplitter(\n",
    "    chunk_size=500,\n",
    "    chunk_overlap=50,\n",
    "    separators=[\"\\n\\n\", \"\\n\", \" \", \"\"]\n",
    ")\n",
    "chunks = text_splitter.create_documents(documents)\n",
    "\n",
    "print(f\"Split documents into {len(chunks)} chunks\")"
   ]
  },
  {
   "cell_type": "code",
   "execution_count": null,
   "id": "e159aede",
   "metadata": {},
   "outputs": [
    {
     "name": "stderr",
     "output_type": "stream",
     "text": [
      "/tmp/ipykernel_2751772/68550215.py:2: LangChainDeprecationWarning: The class `OpenAIEmbeddings` was deprecated in LangChain 0.0.9 and will be removed in 1.0. An updated version of the class exists in the langchain-openai package and should be used instead. To use it run `pip install -U langchain-openai` and import as `from langchain_openai import OpenAIEmbeddings`.\n",
      "  embeddings = OpenAIEmbeddings()\n"
     ]
    },
    {
     "name": "stdout",
     "output_type": "stream",
     "text": [
      "Vector store created successfully\n"
     ]
    }
   ],
   "source": [
    "# Initialize the embeddings model\n",
    "embeddings = OpenAIEmbeddings()\n",
    "\n",
    "# Create a vector store\n",
    "vectorstore = FAISS.from_documents(chunks, embeddings)\n",
    "\n",
    "# Save the vector store locally \n",
    "vectorstore.save_local(\"faiss_index\")\n",
    "\n",
    "print(\"Vector store created successfully\")"
   ]
  },
  {
   "cell_type": "code",
   "execution_count": null,
   "id": "34bc02f7",
   "metadata": {},
   "outputs": [
    {
     "name": "stdout",
     "output_type": "stream",
     "text": [
      "RAG chain setup complete\n"
     ]
    }
   ],
   "source": [
    "# Create a retriever from the vector store\n",
    "retriever = vectorstore.as_retriever(\n",
    "    search_type=\"similarity\",  \n",
    "    search_kwargs={\"k\": 3}  # number of documents to return\n",
    ")\n",
    "\n",
    "# RAG prompt template\n",
    "template = \"\"\"\n",
    "You are an AI assistant providing helpful answers based on the retrieved context.\n",
    "Use the following context to answer the question at the end. If you don't know \n",
    "the answer, say you don't know - don't try to make up an answer.\n",
    "\n",
    "Context:\n",
    "{context}\n",
    "\n",
    "Question: {question}\n",
    "\n",
    "Your answer:\n",
    "\"\"\"\n",
    "\n",
    "prompt = PromptTemplate(\n",
    "    input_variables=[\"context\", \"question\"],\n",
    "    template=template\n",
    ")\n",
    "\n",
    "llm = ChatOpenAI(model_name=\"gpt-4o-mini\", temperature=0)\n",
    "\n",
    "# Create the RAG pipeline using RetrievalQA\n",
    "rag_chain = RetrievalQA.from_chain_type(\n",
    "    llm=llm,\n",
    "    chain_type=\"stuff\",  \n",
    "    retriever=retriever,\n",
    "    chain_type_kwargs={\"prompt\": prompt}\n",
    ")\n",
    "\n",
    "print(\"RAG chain setup complete\")"
   ]
  },
  {
   "cell_type": "code",
   "execution_count": null,
   "id": "7627dd30",
   "metadata": {},
   "outputs": [
    {
     "name": "stdout",
     "output_type": "stream",
     "text": [
      "Question: What is RAG?\n",
      "Answer: RAG, or Retrieval-Augmented Generation, is an AI framework that enhances the outputs of large language models (LLMs) by retrieving relevant information from external sources. It combines retrieval-based and generation-based approaches in natural language processing to improve the factuality and specificity of generated responses by grounding them in retrieved passages. RAG was introduced by researchers at Facebook AI in 2020 and consists of three key components: a retriever module that finds relevant documents from a knowledge base, an augmenter that incorporates the retrieved information, and a generator that produces the final response using both the query and the retrieved context.\n",
      "--------------------------------------------------\n",
      "Question: When was RAG introduced?\n",
      "Answer: RAG was introduced by researchers at Facebook AI in 2020.\n",
      "--------------------------------------------------\n",
      "Question: What are the key components of a RAG system?\n",
      "Answer: The key components of a RAG system are:\n",
      "1. A retriever module that finds relevant documents from a knowledge base.\n",
      "2. An augmenter that incorporates the retrieved information.\n",
      "3. A generator that produces the final response using both the query and retrieved context.\n",
      "--------------------------------------------------\n"
     ]
    }
   ],
   "source": [
    "# Test the RAG pipeline \n",
    "questions = [\n",
    "    \"What is RAG?\",\n",
    "    \"When was RAG introduced?\",\n",
    "    \"What are the key components of a RAG system?\"\n",
    "]\n",
    "\n",
    "\n",
    "for question in questions:\n",
    "    answer = rag_chain.invoke({\"query\": question})\n",
    "    print(f\"Question: {question}\")\n",
    "    print(f\"Answer: {answer['result']}\")\n",
    "    print(\"-\" * 50)"
   ]
  },
  {
   "cell_type": "code",
   "execution_count": 27,
   "id": "673c2a95",
   "metadata": {},
   "outputs": [
    {
     "name": "stdout",
     "output_type": "stream",
     "text": [
      "Question: What is RAG?\n",
      "Answer: Retrieval-Augmented Generation (RAG) is an AI framework that enhances large language model (LLM) outputs by retrieving relevant information from external sources. It combines the strengths of retrieval-based and generation-based approaches in natural language processing. RAG was introduced by researchers at Facebook AI in 2020 and aims to improve the factuality and specificity of generated responses by grounding them in retrieved passages. The key components of RAG include a retriever module that finds relevant documents from a knowledge base, an augmenter that incorporates the retrieved information, and a generator that produces the final response using both the query and the retrieved context.\n",
      "\n",
      "Question: What are its key components?\n",
      "Answer: The key components of Retrieval-Augmented Generation (RAG) are:\n",
      "\n",
      "1. A retriever module that finds relevant documents from a knowledge base.\n",
      "2. An augmenter that incorporates the retrieved information.\n",
      "3. A generator that produces the final response using both the query and retrieved context.\n"
     ]
    }
   ],
   "source": [
    "from langchain.chains import ConversationalRetrievalChain\n",
    "\n",
    "# Set up memory\n",
    "memory = ConversationBufferMemory(\n",
    "    memory_key=\"chat_history\",\n",
    "    return_messages=True\n",
    ")\n",
    "\n",
    "# Create a conversational RAG chain\n",
    "conversational_rag = ConversationalRetrievalChain.from_llm(\n",
    "    llm=llm,\n",
    "    retriever=retriever,\n",
    "    memory=memory\n",
    ")\n",
    "\n",
    "# Example conversation\n",
    "response = conversational_rag.invoke({\"question\": \"What is RAG?\"})\n",
    "print(\"Question: What is RAG?\")\n",
    "print(f\"Answer: {response['answer']}\")\n",
    "\n",
    "response = conversational_rag.invoke({\"question\": \"What are its key components?\"})\n",
    "print(\"\\nQuestion: What are its key components?\")\n",
    "print(f\"Answer: {response['answer']}\")\n",
    "\n"
   ]
  }
 ],
 "metadata": {
  "kernelspec": {
   "display_name": "assn3",
   "language": "python",
   "name": "python3"
  },
  "language_info": {
   "codemirror_mode": {
    "name": "ipython",
    "version": 3
   },
   "file_extension": ".py",
   "mimetype": "text/x-python",
   "name": "python",
   "nbconvert_exporter": "python",
   "pygments_lexer": "ipython3",
   "version": "3.8.20"
  }
 },
 "nbformat": 4,
 "nbformat_minor": 5
}
